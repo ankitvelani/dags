{
  "nbformat": 4,
  "nbformat_minor": 0,
  "metadata": {
    "kernelspec": {
      "display_name": "Python 3",
      "language": "python",
      "name": "python3"
    },
    "language_info": {
      "codemirror_mode": {
        "name": "ipython",
        "version": 3
      },
      "file_extension": ".py",
      "mimetype": "text/x-python",
      "name": "python",
      "nbconvert_exporter": "python",
      "pygments_lexer": "ipython3",
      "version": "3.7.6"
    },
    "colab": {
      "name": "Simple Linear Regression.ipynb",
      "provenance": []
    }
  },
  "cells": [
    {
      "cell_type": "code",
      "metadata": {
        "id": "Zu2qabXx_mV_",
        "colab_type": "code",
        "colab": {}
      },
      "source": [
        "import pandas as pd\n",
        "import numpy as np"
      ],
      "execution_count": 0,
      "outputs": []
    },
    {
      "cell_type": "code",
      "metadata": {
        "id": "OwYeRNbY_oHF",
        "colab_type": "code",
        "colab": {}
      },
      "source": [
        "## THis is test  "
      ],
      "execution_count": 0,
      "outputs": []
    },
    {
      "cell_type": "code",
      "metadata": {
        "id": "SHU1HxJ__mWC",
        "colab_type": "code",
        "colab": {}
      },
      "source": [
        "mba_salary_df=pd.read_csv('Data/MBA Salary.csv')"
      ],
      "execution_count": 0,
      "outputs": []
    },
    {
      "cell_type": "code",
      "metadata": {
        "id": "7-zh1FsY_mWE",
        "colab_type": "code",
        "colab": {},
        "outputId": "b04b87e3-b612-4674-b563-3bd21f5cca3b"
      },
      "source": [
        "mba_salary_df.head()"
      ],
      "execution_count": 0,
      "outputs": [
        {
          "output_type": "execute_result",
          "data": {
            "text/html": [
              "<div>\n",
              "<style scoped>\n",
              "    .dataframe tbody tr th:only-of-type {\n",
              "        vertical-align: middle;\n",
              "    }\n",
              "\n",
              "    .dataframe tbody tr th {\n",
              "        vertical-align: top;\n",
              "    }\n",
              "\n",
              "    .dataframe thead th {\n",
              "        text-align: right;\n",
              "    }\n",
              "</style>\n",
              "<table border=\"1\" class=\"dataframe\">\n",
              "  <thead>\n",
              "    <tr style=\"text-align: right;\">\n",
              "      <th></th>\n",
              "      <th>S. No.</th>\n",
              "      <th>Percentage in Grade 10</th>\n",
              "      <th>Salary</th>\n",
              "    </tr>\n",
              "  </thead>\n",
              "  <tbody>\n",
              "    <tr>\n",
              "      <th>0</th>\n",
              "      <td>1</td>\n",
              "      <td>62.00</td>\n",
              "      <td>270000</td>\n",
              "    </tr>\n",
              "    <tr>\n",
              "      <th>1</th>\n",
              "      <td>2</td>\n",
              "      <td>76.33</td>\n",
              "      <td>200000</td>\n",
              "    </tr>\n",
              "    <tr>\n",
              "      <th>2</th>\n",
              "      <td>3</td>\n",
              "      <td>72.00</td>\n",
              "      <td>240000</td>\n",
              "    </tr>\n",
              "    <tr>\n",
              "      <th>3</th>\n",
              "      <td>4</td>\n",
              "      <td>60.00</td>\n",
              "      <td>250000</td>\n",
              "    </tr>\n",
              "    <tr>\n",
              "      <th>4</th>\n",
              "      <td>5</td>\n",
              "      <td>61.00</td>\n",
              "      <td>180000</td>\n",
              "    </tr>\n",
              "  </tbody>\n",
              "</table>\n",
              "</div>"
            ],
            "text/plain": [
              "   S. No.  Percentage in Grade 10  Salary\n",
              "0       1                   62.00  270000\n",
              "1       2                   76.33  200000\n",
              "2       3                   72.00  240000\n",
              "3       4                   60.00  250000\n",
              "4       5                   61.00  180000"
            ]
          },
          "metadata": {
            "tags": []
          },
          "execution_count": 3
        }
      ]
    },
    {
      "cell_type": "code",
      "metadata": {
        "id": "V84iSSkU_mWI",
        "colab_type": "code",
        "colab": {}
      },
      "source": [
        "import statsmodels.api as sm"
      ],
      "execution_count": 0,
      "outputs": []
    },
    {
      "cell_type": "code",
      "metadata": {
        "id": "wtWuOihs_mWK",
        "colab_type": "code",
        "colab": {},
        "outputId": "95a3a81a-a300-47f8-c21b-16e9eab6c0a8"
      },
      "source": [
        "X=sm.add_constant(mba_salary_df['Percentage in Grade 10'])\n",
        "Y=mba_salary_df['Salary']"
      ],
      "execution_count": 0,
      "outputs": [
        {
          "output_type": "stream",
          "text": [
            "C:\\Users\\avelani\\AppData\\Local\\Continuum\\anaconda3\\envs\\DeepGPU\\lib\\site-packages\\numpy\\core\\fromnumeric.py:2542: FutureWarning: Method .ptp is deprecated and will be removed in a future version. Use numpy.ptp instead.\n",
            "  return ptp(axis=axis, out=out, **kwargs)\n"
          ],
          "name": "stderr"
        }
      ]
    },
    {
      "cell_type": "code",
      "metadata": {
        "id": "l-68YP0R_mWN",
        "colab_type": "code",
        "colab": {}
      },
      "source": [
        "from sklearn.model_selection import train_test_split"
      ],
      "execution_count": 0,
      "outputs": []
    },
    {
      "cell_type": "code",
      "metadata": {
        "id": "Of3gRUsE_mWP",
        "colab_type": "code",
        "colab": {}
      },
      "source": [
        "train_X,test_X,train_y,test_y=train_test_split(X,Y,train_size=0.8,random_state=100)"
      ],
      "execution_count": 0,
      "outputs": []
    },
    {
      "cell_type": "code",
      "metadata": {
        "id": "voYKP-QC_mWS",
        "colab_type": "code",
        "colab": {}
      },
      "source": [
        "mba_salary_lm=sm.OLS(train_y,train_X).fit()"
      ],
      "execution_count": 0,
      "outputs": []
    },
    {
      "cell_type": "code",
      "metadata": {
        "id": "1PDgyR4H_mWU",
        "colab_type": "code",
        "colab": {},
        "outputId": "b58d15e6-6d56-4632-9fa5-b11263764345"
      },
      "source": [
        "print(mba_salary_lm.summary())"
      ],
      "execution_count": 0,
      "outputs": [
        {
          "output_type": "stream",
          "text": [
            "                            OLS Regression Results                            \n",
            "==============================================================================\n",
            "Dep. Variable:                 Salary   R-squared:                       0.211\n",
            "Model:                            OLS   Adj. R-squared:                  0.190\n",
            "Method:                 Least Squares   F-statistic:                     10.16\n",
            "Date:                Fri, 24 Jan 2020   Prob (F-statistic):            0.00287\n",
            "Time:                        18:38:02   Log-Likelihood:                -502.43\n",
            "No. Observations:                  40   AIC:                             1009.\n",
            "Df Residuals:                      38   BIC:                             1012.\n",
            "Df Model:                           1                                         \n",
            "Covariance Type:            nonrobust                                         \n",
            "==========================================================================================\n",
            "                             coef    std err          t      P>|t|      [0.025      0.975]\n",
            "------------------------------------------------------------------------------------------\n",
            "const                   3.059e+04   7.19e+04      0.426      0.673   -1.15e+05    1.76e+05\n",
            "Percentage in Grade 10  3560.5874   1116.926      3.188      0.003    1299.489    5821.686\n",
            "==============================================================================\n",
            "Omnibus:                        2.048   Durbin-Watson:                   2.611\n",
            "Prob(Omnibus):                  0.359   Jarque-Bera (JB):                1.724\n",
            "Skew:                           0.369   Prob(JB):                        0.422\n",
            "Kurtosis:                       2.300   Cond. No.                         413.\n",
            "==============================================================================\n",
            "\n",
            "Warnings:\n",
            "[1] Standard Errors assume that the covariance matrix of the errors is correctly specified.\n"
          ],
          "name": "stdout"
        }
      ]
    },
    {
      "cell_type": "code",
      "metadata": {
        "id": "LrtQhhb6_mWX",
        "colab_type": "code",
        "colab": {}
      },
      "source": [
        "## Checking Residual \n",
        "import matplotlib.pyplot as plt\n",
        "import seaborn as sn\n",
        "%matplotlib inline"
      ],
      "execution_count": 0,
      "outputs": []
    },
    {
      "cell_type": "code",
      "metadata": {
        "id": "upYjSQmT_mWZ",
        "colab_type": "code",
        "colab": {}
      },
      "source": [
        "mba_salary_resid=mba_salary_lm.resid"
      ],
      "execution_count": 0,
      "outputs": []
    },
    {
      "cell_type": "code",
      "metadata": {
        "id": "k4VcocqJ_mWb",
        "colab_type": "code",
        "colab": {},
        "outputId": "5ea69116-5d84-4f35-dd32-85baf7f14ec4"
      },
      "source": [
        "probPlot = sm.ProbPlot(mba_salary_resid)\n",
        "\n",
        "plt.figure(figsize=(8,6))\n",
        "probPlot.ppplot(line='45')\n",
        "plt.show()"
      ],
      "execution_count": 0,
      "outputs": [
        {
          "output_type": "display_data",
          "data": {
            "text/plain": [
              "<Figure size 576x432 with 0 Axes>"
            ]
          },
          "metadata": {
            "tags": []
          }
        },
        {
          "output_type": "display_data",
          "data": {
            "image/png": "[encoded data removed]",
            "text/plain": [
              "<Figure size 432x288 with 1 Axes>"
            ]
          },
          "metadata": {
            "tags": [],
            "needs_background": "light"
          }
        }
      ]
    },
    {
      "cell_type": "code",
      "metadata": {
        "id": "6H0Z0D4C_mWe",
        "colab_type": "code",
        "colab": {},
        "outputId": "b2d662b8-eefe-4214-c9c6-907708f0ef3e"
      },
      "source": [
        "sn.boxplot(mba_salary_resid)"
      ],
      "execution_count": 0,
      "outputs": [
        {
          "output_type": "execute_result",
          "data": {
            "text/plain": [
              "<matplotlib.axes._subplots.AxesSubplot at 0x1f24e941a48>"
            ]
          },
          "metadata": {
            "tags": []
          },
          "execution_count": 38
        },
        {
          "output_type": "display_data",
          "data": {
            "image/png": "[encoded data removed]",
            "text/plain": [
              "<Figure size 432x288 with 1 Axes>"
            ]
          },
          "metadata": {
            "tags": [],
            "needs_background": "light"
          }
        }
      ]
    },
    {
      "cell_type": "code",
      "metadata": {
        "id": "gAVv9j3t_mWg",
        "colab_type": "code",
        "colab": {}
      },
      "source": [
        "### Checking for Homoscadacity\n",
        "# Formulla \n",
        "# Num - Num.mean()/ std(Num)\n",
        "\n",
        "def get_standard_value(num):\n",
        "    return (num-num.mean())/num.std()"
      ],
      "execution_count": 0,
      "outputs": []
    },
    {
      "cell_type": "code",
      "metadata": {
        "id": "CvY2MbN7_mWi",
        "colab_type": "code",
        "colab": {},
        "outputId": "ac4e802f-d1ad-4ff3-b573-dcaad2bcffad"
      },
      "source": [
        "plt.scatter(get_standard_value(mba_salary_lm.fittedvalues),get_standard_value(mba_salary_lm.resid))"
      ],
      "execution_count": 0,
      "outputs": [
        {
          "output_type": "execute_result",
          "data": {
            "text/plain": [
              "<matplotlib.collections.PathCollection at 0x1f250532688>"
            ]
          },
          "metadata": {
            "tags": []
          },
          "execution_count": 41
        },
        {
          "output_type": "display_data",
          "data": {
            "image/png": "[encoded data removed]",
            "text/plain": [
              "<Figure size 432x288 with 1 Axes>"
            ]
          },
          "metadata": {
            "tags": [],
            "needs_background": "light"
          }
        }
      ]
    },
    {
      "cell_type": "code",
      "metadata": {
        "id": "R3kL0dPm_mWl",
        "colab_type": "code",
        "colab": {},
        "outputId": "28de0e60-e6ad-47c9-c130-c1611ae3c2ef"
      },
      "source": [
        "## Outlier \n",
        "sn.boxplot(mba_salary_df.Salary)\n"
      ],
      "execution_count": 0,
      "outputs": [
        {
          "output_type": "execute_result",
          "data": {
            "text/plain": [
              "<matplotlib.axes._subplots.AxesSubplot at 0x1f250552908>"
            ]
          },
          "metadata": {
            "tags": []
          },
          "execution_count": 45
        },
        {
          "output_type": "display_data",
          "data": {
            "image/png": "[encoded data removed]",
            "text/plain": [
              "<Figure size 432x288 with 1 Axes>"
            ]
          },
          "metadata": {
            "tags": [],
            "needs_background": "light"
          }
        }
      ]
    },
    {
      "cell_type": "code",
      "metadata": {
        "id": "Ndx0cr-m_mWn",
        "colab_type": "code",
        "colab": {}
      },
      "source": [
        "# Z-Score\n",
        "from scipy.stats import zscoreore"
      ],
      "execution_count": 0,
      "outputs": []
    },
    {
      "cell_type": "code",
      "metadata": {
        "id": "s1tZcJGE_mWp",
        "colab_type": "code",
        "colab": {}
      },
      "source": [
        "mba_salary_df['z_score_salary']=zscore(mba_salary_df.Salary)"
      ],
      "execution_count": 0,
      "outputs": []
    },
    {
      "cell_type": "code",
      "metadata": {
        "id": "R1jrSK3A_mWs",
        "colab_type": "code",
        "colab": {},
        "outputId": "646dd719-d749-4fa8-a02d-2bd3ccf49f40"
      },
      "source": [
        "mba_salary_df[(mba_salary_df.z_score_salary>3.0)|(mba_salary_df.z_score_salary<-3.0)]"
      ],
      "execution_count": 0,
      "outputs": [
        {
          "output_type": "execute_result",
          "data": {
            "text/html": [
              "<div>\n",
              "<style scoped>\n",
              "    .dataframe tbody tr th:only-of-type {\n",
              "        vertical-align: middle;\n",
              "    }\n",
              "\n",
              "    .dataframe tbody tr th {\n",
              "        vertical-align: top;\n",
              "    }\n",
              "\n",
              "    .dataframe thead th {\n",
              "        text-align: right;\n",
              "    }\n",
              "</style>\n",
              "<table border=\"1\" class=\"dataframe\">\n",
              "  <thead>\n",
              "    <tr style=\"text-align: right;\">\n",
              "      <th></th>\n",
              "      <th>S. No.</th>\n",
              "      <th>Percentage in Grade 10</th>\n",
              "      <th>Salary</th>\n",
              "      <th>z_score_salary</th>\n",
              "    </tr>\n",
              "  </thead>\n",
              "  <tbody>\n",
              "  </tbody>\n",
              "</table>\n",
              "</div>"
            ],
            "text/plain": [
              "Empty DataFrame\n",
              "Columns: [S. No., Percentage in Grade 10, Salary, z_score_salary]\n",
              "Index: []"
            ]
          },
          "metadata": {
            "tags": []
          },
          "execution_count": 51
        }
      ]
    },
    {
      "cell_type": "code",
      "metadata": {
        "id": "QsIRkQyQ_mWu",
        "colab_type": "code",
        "colab": {}
      },
      "source": [
        "# Using Leverage Value Or Influence Plot\n",
        "\n",
        "from statsmodels.graphics.regressionplots import influence_plot"
      ],
      "execution_count": 0,
      "outputs": []
    },
    {
      "cell_type": "code",
      "metadata": {
        "id": "buQHEyoF_mWw",
        "colab_type": "code",
        "colab": {}
      },
      "source": [
        ""
      ],
      "execution_count": 0,
      "outputs": []
    },
    {
      "cell_type": "code",
      "metadata": {
        "id": "3ZecJ8Bl_mWy",
        "colab_type": "code",
        "colab": {},
        "outputId": "9ac0f4c3-668b-4f6f-8015-a4265a28ac81"
      },
      "source": [
        "#fig,aux=plt.subplots(figsize=(8,6))\n",
        "influence_plot(mba_salary_lm)\n",
        "plt.show()"
      ],
      "execution_count": 0,
      "outputs": [
        {
          "output_type": "display_data",
          "data": {
            "image/png": "[encoded data removed]",
            "text/plain": [
              "<Figure size 432x288 with 1 Axes>"
            ]
          },
          "metadata": {
            "tags": [],
            "needs_background": "light"
          }
        }
      ]
    },
    {
      "cell_type": "code",
      "metadata": {
        "id": "BUWCKDU7_mW0",
        "colab_type": "code",
        "colab": {}
      },
      "source": [
        "# Calculate Prediction Interval\n",
        "\n",
        "from statsmodels.sandbox.regression.predstd import wls_prediction_std"
      ],
      "execution_count": 0,
      "outputs": []
    },
    {
      "cell_type": "code",
      "metadata": {
        "id": "d1N41U4s_mW1",
        "colab_type": "code",
        "colab": {}
      },
      "source": [
        "pred_y = mba_salary_lm.predict(test_X)"
      ],
      "execution_count": 0,
      "outputs": []
    },
    {
      "cell_type": "code",
      "metadata": {
        "id": "mh2HSVDT_mW3",
        "colab_type": "code",
        "colab": {},
        "outputId": "0df06a90-9b7f-414e-af87-443fbdc9eb9b"
      },
      "source": [
        "wls_prediction_std(mba_salary_lm,test_X,alpha=0.1)"
      ],
      "execution_count": 0,
      "outputs": [
        {
          "output_type": "execute_result",
          "data": {
            "text/plain": [
              "(array([72035.49885795, 71846.84741458, 72829.30248119, 71944.10482994,\n",
              "        72709.53362778, 71741.81781609, 72310.46293586, 73467.60789736,\n",
              "        71678.26566477, 72690.84742484]),\n",
              " array([158379.83204378, 151576.71501995,  92950.94239516, 115806.86961836,\n",
              "        173266.08334187, 126117.5609831 , 104507.44438799, 184450.06048787,\n",
              "        134057.99925822, 172941.52869074]),\n",
              " array([401276.97286011, 393837.74035249, 338524.71672566, 358395.83809682,\n",
              "        418436.0080078 , 368024.43607611, 348331.73903001, 432176.14254184,\n",
              "        375750.58228559, 418048.44518236]))"
            ]
          },
          "metadata": {
            "tags": []
          },
          "execution_count": 66
        }
      ]
    },
    {
      "cell_type": "code",
      "metadata": {
        "id": "lOdIy59g_mW6",
        "colab_type": "code",
        "colab": {}
      },
      "source": [
        "# Prediction Interval for Model"
      ],
      "execution_count": 0,
      "outputs": []
    },
    {
      "cell_type": "code",
      "metadata": {
        "id": "em8t_5E4_mW8",
        "colab_type": "code",
        "colab": {},
        "outputId": "2ceed42e-91c5-46c7-afcf-dcc3e1061320"
      },
      "source": [
        "from scipy import stats\n",
        "stats.norm.interval(0.95,loc=mba_salary_df.Salary.mean(),scale=mba_salary_df.Salary.std())"
      ],
      "execution_count": 0,
      "outputs": [
        {
          "output_type": "execute_result",
          "data": {
            "text/plain": [
              "(107831.81260727957, 408552.1873927204)"
            ]
          },
          "metadata": {
            "tags": []
          },
          "execution_count": 77
        }
      ]
    },
    {
      "cell_type": "code",
      "metadata": {
        "id": "T805FoM4_mW-",
        "colab_type": "code",
        "colab": {}
      },
      "source": [
        ""
      ],
      "execution_count": 0,
      "outputs": []
    }
  ]
}